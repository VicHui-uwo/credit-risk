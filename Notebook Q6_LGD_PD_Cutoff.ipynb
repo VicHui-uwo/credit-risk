{
  "cells": [
    {
      "attachments": {},
      "cell_type": "markdown",
      "metadata": {},
      "source": [
        "# Q6 LGD, PD, Cutoff Optimization"
      ]
    },
    {
      "cell_type": "code",
      "execution_count": 19,
      "metadata": {
        "id": "jA8p1Az6NbZ6"
      },
      "outputs": [],
      "source": [
        "\n",
        "import pandas as pd\n",
        "import numpy as np\n",
        "import seaborn as sns\n",
        "import matplotlib.pyplot as plt\n",
        "import sys\n",
        "import pickle\n",
        "import scorecardpy as sc\n",
        "pd.set_option('display.max_columns', None)\n",
        "np.set_printoptions(threshold=sys.maxsize)\n",
        "from scipy.stats import zscore\n",
        "from datetime import datetime\n",
        "from xgboost import XGBClassifier, XGBRegressor\n",
        "from sklearn.model_selection import train_test_split, StratifiedKFold, GridSearchCV\n",
        "from sklearn.metrics import accuracy_score, roc_curve, auc, confusion_matrix\n",
        "from sklearn.preprocessing import LabelEncoder, OneHotEncoder\n",
        "from sklearn.compose import ColumnTransformer\n",
        "from sklearn.ensemble import RandomForestClassifier\n",
        "from sklearn.pipeline import Pipeline\n",
        "from sklearn.feature_selection import SelectFromModel\n"
      ]
    },
    {
      "cell_type": "code",
      "execution_count": 3,
      "metadata": {},
      "outputs": [
        {
          "name": "stderr",
          "output_type": "stream",
          "text": [
            "/var/folders/56/nfn25k9j2gb6nx4jj12sl_rh0000gn/T/ipykernel_29564/4197397062.py:1: DtypeWarning: Columns (0,14,42,98,109,110,111,114,115,116,119,123,124) have mixed types. Specify dtype option on import or set low_memory=False.\n",
            "  df = pd.read_csv('LCOrigination.csv')\n"
          ]
        }
      ],
      "source": [
        "df = pd.read_csv('LCOrigination.csv')\n",
        "clean_df = pd.read_pickle('Q1.pkl')"
      ]
    },
    {
      "attachments": {},
      "cell_type": "markdown",
      "metadata": {},
      "source": [
        "### Combine the clean dataset with the performance veriables."
      ]
    },
    {
      "cell_type": "code",
      "execution_count": 4,
      "metadata": {},
      "outputs": [],
      "source": [
        "drop_col_perform = [\n",
        "    \"collection_recovery_fee\",\n",
        "    \"delinq_amnt\",\n",
        "    \"issue_d\",\n",
        "    \"last_pymnt_amnt\",\n",
        "    \"last_pymnt_d\",\n",
        "    \"mths_since_last_delinq\",\n",
        "    \"mths_since_last_major_derog\",\n",
        "    \"next_pymnt_d\",\n",
        "    \"pymnt_plan\",\n",
        "    \"recoveries\",\n",
        "    \"hardship_flag\",\n",
        "    \"hardship_type\",\n",
        "    \"hardship_reason\",\n",
        "    \"hardship_status\",\n",
        "    \"deferral_term\",\n",
        "    \"hardship_amount\",\n",
        "    \"hardship_start_date\",\n",
        "    \"hardship_end_date\",\n",
        "    \"payment_plan_start_date\",\n",
        "    \"hardship_length\",\n",
        "    \"hardship_dpd\",\n",
        "    \"hardship_loan_status\",\n",
        "    \"orig_projected_additional_accrued_interest\",\n",
        "    \"hardship_payoff_balance_amount\",\n",
        "    \"hardship_last_payment_amount\",\n",
        "    \"settlement_status\",\n",
        "    \"settlement_date\",\n",
        "    \"settlement_amount\",\n",
        "    \"settlement_percentage\",\n",
        "    \"settlement_term\",\n",
        "    \"int_rate\",\n",
        "    \"total_pymnt\",\n",
        "    \"total_rec_int\",\n",
        "    \"total_rec_late_fee\",\n",
        "    \"total_rec_prncp\",\n",
        "    \"total_rev_hi_lim\",\n",
        "    \"out_prncp\",\n",
        "    \"out_prncp_inv\",\n",
        "]\n",
        "\n",
        "crash_record_index = df[df.loan_amnt.isna()].index\n",
        "crash_record = df.loc[crash_record_index, \"id\"]\n",
        "crash_record = pd.DataFrame(data={'index':crash_record_index, 'id': crash_record})\n",
        "df.drop(index=crash_record_index, inplace=True)\n",
        "clean_df.loc[:,drop_col_perform] = df.loc[:, drop_col_perform]"
      ]
    },
    {
      "attachments": {},
      "cell_type": "markdown",
      "metadata": {},
      "source": [
        "### Locate the Default/Charge Off Loans"
      ]
    },
    {
      "cell_type": "code",
      "execution_count": 5,
      "metadata": {},
      "outputs": [],
      "source": [
        "bad_index = clean_df[(clean_df.loan_status == \"Default\") | (clean_df.loan_status == \"Charged Off\")].index"
      ]
    },
    {
      "attachments": {},
      "cell_type": "markdown",
      "metadata": {},
      "source": [
        "# Q6 Part 1 LGD and Loan Profit"
      ]
    },
    {
      "attachments": {},
      "cell_type": "markdown",
      "metadata": {},
      "source": [
        "### Exposure at Deafult"
      ]
    },
    {
      "cell_type": "code",
      "execution_count": 6,
      "metadata": {},
      "outputs": [],
      "source": [
        "clean_df.loc[bad_index, 'ead'] = clean_df.loc[bad_index].funded_amnt - clean_df.loc[bad_index].total_rec_prncp"
      ]
    },
    {
      "attachments": {},
      "cell_type": "markdown",
      "metadata": {},
      "source": [
        "### Loss Given Default & Recovery Rate"
      ]
    },
    {
      "cell_type": "code",
      "execution_count": 9,
      "metadata": {},
      "outputs": [],
      "source": [
        "clean_df.loc[bad_index, \"loss\"] = (\n",
        "    clean_df.loc[bad_index].ead -\n",
        "    clean_df.loc[bad_index].recoveries + \n",
        "    clean_df.loc[bad_index].collection_recovery_fee\n",
        ").apply(lambda x: x if x >= 0 else 0)\n",
        "\n",
        "clean_df.loc[bad_index, \"lgd\"] = clean_df.loc[bad_index].apply(\n",
        "    lambda x: 0 if x.ead == 0 else x.loss / x.ead, axis = 1\n",
        ")\n",
        "\n",
        "clean_df.loc[bad_index, \"recovery_rate\"] = 1 - clean_df.loc[bad_index].lgd"
      ]
    },
    {
      "attachments": {},
      "cell_type": "markdown",
      "metadata": {},
      "source": [
        "### Loan Profit"
      ]
    },
    {
      "cell_type": "code",
      "execution_count": 10,
      "metadata": {},
      "outputs": [],
      "source": [
        "end_loan_index = clean_df[(clean_df.loan_status == \"Default\") | (clean_df.loan_status == \"Charged Off\") | (clean_df.loan_status == \"Fully Paid\")].index"
      ]
    },
    {
      "cell_type": "code",
      "execution_count": 358,
      "metadata": {},
      "outputs": [],
      "source": [
        "clean_df.loc[end_loan_index, \"loan_profit\"] = (\n",
        "    clean_df.loc[end_loan_index].total_rec_int + \n",
        "    clean_df.loc[end_loan_index].total_rec_late_fee\n",
        ")"
      ]
    },
    {
      "attachments": {},
      "cell_type": "markdown",
      "metadata": {},
      "source": [
        "### Cost of Capital"
      ]
    },
    {
      "cell_type": "code",
      "execution_count": 359,
      "metadata": {},
      "outputs": [],
      "source": [
        "clean_df.loc[end_loan_index, \"cost_of_cap\"] = 0.5 * clean_df.loc[end_loan_index].total_rec_int\n",
        "clean_df.cost_of_cap.clip(lower=0, inplace=True)"
      ]
    },
    {
      "attachments": {},
      "cell_type": "markdown",
      "metadata": {},
      "source": [
        "### Loan P&L"
      ]
    },
    {
      "cell_type": "code",
      "execution_count": 360,
      "metadata": {},
      "outputs": [],
      "source": [
        "clean_df['profit_and_loss'] = clean_df['loan_profit'] - clean_df['cost_of_cap']\n",
        "clean_df.loc[bad_index, 'profit_and_loss'] = clean_df['profit_and_loss'] - clean_df['ead'] * clean_df['lgd']"
      ]
    },
    {
      "attachments": {},
      "cell_type": "markdown",
      "metadata": {},
      "source": [
        "# Part 2: Calculate PD using Scorecard"
      ]
    },
    {
      "attachments": {},
      "cell_type": "markdown",
      "metadata": {},
      "source": [
        "### Run the scorecard to generate the predicted PD"
      ]
    },
    {
      "cell_type": "code",
      "execution_count": 21,
      "metadata": {},
      "outputs": [],
      "source": [
        "app_scorecard = pickle.load(open('Q3_scorecard.pkl','rb'))"
      ]
    },
    {
      "cell_type": "code",
      "execution_count": 23,
      "metadata": {},
      "outputs": [
        {
          "name": "stderr",
          "output_type": "stream",
          "text": [
            "/Library/Frameworks/Python.framework/Versions/3.10/lib/python3.10/site-packages/scorecardpy/scorecard.py:241: SettingWithCopyWarning: \n",
            "A value is trying to be set on a copy of a slice from a DataFrame.\n",
            "Try using .loc[row_indexer,col_indexer] = value instead\n",
            "\n",
            "See the caveats in the documentation: https://pandas.pydata.org/pandas-docs/stable/user_guide/indexing.html#returning-a-view-versus-a-copy\n",
            "  dat_score.loc[:,'score'] = card_basepoints + dat_score.sum(axis=1)\n"
          ]
        }
      ],
      "source": [
        "df_pd = sc.scorecard_ply(\n",
        "    clean_df,\n",
        "    app_scorecard, \n",
        "    print_step=0)"
      ]
    },
    {
      "attachments": {},
      "cell_type": "markdown",
      "metadata": {},
      "source": [
        "### Split the test set wit hthe same seed used in Q2."
      ]
    },
    {
      "cell_type": "code",
      "execution_count": 489,
      "metadata": {},
      "outputs": [],
      "source": [
        "clean_df['score'] = df_pd\n",
        "_, test_df = sc.split_df(clean_df,y = 'loan_status', ratio = 0.8, seed=251316935).values()"
      ]
    },
    {
      "attachments": {},
      "cell_type": "markdown",
      "metadata": {},
      "source": [
        "# Part 3: Cut-off Simulation"
      ]
    },
    {
      "cell_type": "code",
      "execution_count": 490,
      "metadata": {},
      "outputs": [],
      "source": [
        "def portfolio_pnl (data, cut_off):\n",
        "    # data subset of approved under cut off\n",
        "    approved_paid_loan = data[(data.loan_status == \"Fully Paid\") & (data.score >= cut_off)]\n",
        "    approved_bad_loan = data[\n",
        "        ((data.loan_status == \"Charged Off\") | (data.loan_status == \"Default\")) & (data.score >= cut_off)]\n",
        "    # calculate the sub-totals\n",
        "    N = sum((data.loan_status == \"Fully Paid\") | (data.loan_status == \"Default\") | (data.loan_status == \"Charged Off\"))\n",
        "    N_bad = sum((data.loan_status == \"Default\") | (data.loan_status == \"Charged Off\"))\n",
        "    N_good = sum(data.loan_status == \"Fully Paid\")\n",
        "    n = (len(approved_paid_loan) + len(approved_bad_loan))\n",
        "    n_good = len(approved_paid_loan)\n",
        "    n_bad = len(approved_bad_loan)\n",
        "    total_loan = sum(approved_paid_loan.funded_amnt) + sum(approved_paid_loan.funded_amnt)\n",
        "    # calcualte the acceptance rate\n",
        "    accepted_good = n_good / n\n",
        "    accepted_bad = n_bad / n\n",
        "    accepted = (n_good + n_bad) / N\n",
        "    # calcualte the accuracies\n",
        "    accuracy_good = n_good / N_good\n",
        "    accuracy_bad = 1 - n_bad / N_bad\n",
        "    accuracy_total = (n_good + (N_bad - n_bad)) / N\n",
        "    # calculate the average profit and loss in portfolio level\n",
        "    avg_pnl_good = np.mean(approved_paid_loan.profit_and_loss)\n",
        "    avg_pnl_bad = np.mean(approved_bad_loan.profit_and_loss)\n",
        "    avg_pnl = None if n == 0 else (sum(approved_paid_loan.profit_and_loss) + sum(approved_bad_loan.profit_and_loss)) / n\n",
        "    # calculate the total profit and loss in portfolio level\n",
        "    tot_pnl_good = sum(approved_paid_loan.profit_and_loss)\n",
        "    tot_pnl_bad = sum(approved_bad_loan.profit_and_loss)\n",
        "    tot_pnl = sum(approved_paid_loan.profit_and_loss) + sum(approved_bad_loan.profit_and_loss)\n",
        "    # calculate the ROI in portfolio level\n",
        "    roi_good = None if n_good == 0 else tot_pnl_good / sum(approved_paid_loan.funded_amnt)\n",
        "    roi_bad = None if n_bad == 0 else tot_pnl_bad / sum(approved_bad_loan.funded_amnt)\n",
        "    roi = None if n == 0 else tot_pnl / total_loan\n",
        "    \n",
        "    return [cut_off, accepted_good, accepted_bad, accepted, \n",
        "            accuracy_good, accuracy_bad, accuracy_total, \n",
        "            avg_pnl_good, avg_pnl_bad, avg_pnl,\n",
        "            tot_pnl_good, tot_pnl_bad, tot_pnl,\n",
        "            roi_good, roi_bad, roi\n",
        "            ]\n",
        "    "
      ]
    },
    {
      "cell_type": "code",
      "execution_count": 500,
      "metadata": {},
      "outputs": [
        {
          "data": {
            "text/html": [
              "<div>\n",
              "<style scoped>\n",
              "    .dataframe tbody tr th:only-of-type {\n",
              "        vertical-align: middle;\n",
              "    }\n",
              "\n",
              "    .dataframe tbody tr th {\n",
              "        vertical-align: top;\n",
              "    }\n",
              "\n",
              "    .dataframe thead th {\n",
              "        text-align: right;\n",
              "    }\n",
              "</style>\n",
              "<table border=\"1\" class=\"dataframe\">\n",
              "  <thead>\n",
              "    <tr style=\"text-align: right;\">\n",
              "      <th></th>\n",
              "      <th>Cut Off</th>\n",
              "      <th>Accept Rate (Good)</th>\n",
              "      <th>Accept Rate (Bad)</th>\n",
              "      <th>Accept Rate</th>\n",
              "      <th>Accuracy (Good)</th>\n",
              "      <th>Accuracy (Bad)</th>\n",
              "      <th>Overall Accuracy</th>\n",
              "      <th>Avg. P&amp;L (Good)</th>\n",
              "      <th>Avg. P&amp;L (Bad)</th>\n",
              "      <th>Avg P&amp;L</th>\n",
              "      <th>Total P&amp;L (Good)</th>\n",
              "      <th>Total P&amp;L (Bad)</th>\n",
              "      <th>Total P&amp;L</th>\n",
              "      <th>ROI (Good)</th>\n",
              "      <th>ROI (Bad)</th>\n",
              "      <th>ROI</th>\n",
              "    </tr>\n",
              "  </thead>\n",
              "  <tbody>\n",
              "    <tr>\n",
              "      <th>0</th>\n",
              "      <td>260.0</td>\n",
              "      <td>0.667505</td>\n",
              "      <td>0.332495</td>\n",
              "      <td>0.999504</td>\n",
              "      <td>0.999889</td>\n",
              "      <td>0.001266</td>\n",
              "      <td>0.667596</td>\n",
              "      <td>1166.904354</td>\n",
              "      <td>-8819.325248</td>\n",
              "      <td>-2153.463457</td>\n",
              "      <td>1.256873e+08</td>\n",
              "      <td>-4.731744e+08</td>\n",
              "      <td>-3.474872e+08</td>\n",
              "      <td>0.082417</td>\n",
              "      <td>-0.566570</td>\n",
              "      <td>-0.113930</td>\n",
              "    </tr>\n",
              "    <tr>\n",
              "      <th>1</th>\n",
              "      <td>265.0</td>\n",
              "      <td>0.667663</td>\n",
              "      <td>0.332337</td>\n",
              "      <td>0.999102</td>\n",
              "      <td>0.999722</td>\n",
              "      <td>0.002141</td>\n",
              "      <td>0.667775</td>\n",
              "      <td>1166.554725</td>\n",
              "      <td>-8816.905870</td>\n",
              "      <td>-2151.321027</td>\n",
              "      <td>1.256286e+08</td>\n",
              "      <td>-4.726302e+08</td>\n",
              "      <td>-3.470016e+08</td>\n",
              "      <td>0.082395</td>\n",
              "      <td>-0.566559</td>\n",
              "      <td>-0.113792</td>\n",
              "    </tr>\n",
              "    <tr>\n",
              "      <th>2</th>\n",
              "      <td>270.0</td>\n",
              "      <td>0.667939</td>\n",
              "      <td>0.332061</td>\n",
              "      <td>0.998383</td>\n",
              "      <td>0.999415</td>\n",
              "      <td>0.003686</td>\n",
              "      <td>0.668085</td>\n",
              "      <td>1165.796273</td>\n",
              "      <td>-8813.515200</td>\n",
              "      <td>-2147.948577</td>\n",
              "      <td>1.255085e+08</td>\n",
              "      <td>-4.717170e+08</td>\n",
              "      <td>-3.462085e+08</td>\n",
              "      <td>0.082352</td>\n",
              "      <td>-0.566516</td>\n",
              "      <td>-0.113582</td>\n",
              "    </tr>\n",
              "    <tr>\n",
              "      <th>3</th>\n",
              "      <td>275.0</td>\n",
              "      <td>0.668319</td>\n",
              "      <td>0.331681</td>\n",
              "      <td>0.997454</td>\n",
              "      <td>0.999053</td>\n",
              "      <td>0.005752</td>\n",
              "      <td>0.668531</td>\n",
              "      <td>1165.193386</td>\n",
              "      <td>-8811.728135</td>\n",
              "      <td>-2143.966684</td>\n",
              "      <td>1.253981e+08</td>\n",
              "      <td>-4.706432e+08</td>\n",
              "      <td>-3.452451e+08</td>\n",
              "      <td>0.082321</td>\n",
              "      <td>-0.566629</td>\n",
              "      <td>-0.113323</td>\n",
              "    </tr>\n",
              "    <tr>\n",
              "      <th>4</th>\n",
              "      <td>280.0</td>\n",
              "      <td>0.668721</td>\n",
              "      <td>0.331279</td>\n",
              "      <td>0.996234</td>\n",
              "      <td>0.998431</td>\n",
              "      <td>0.008172</td>\n",
              "      <td>0.668921</td>\n",
              "      <td>1164.084173</td>\n",
              "      <td>-8809.389747</td>\n",
              "      <td>-2139.922840</td>\n",
              "      <td>1.252007e+08</td>\n",
              "      <td>-4.693731e+08</td>\n",
              "      <td>-3.441724e+08</td>\n",
              "      <td>0.082260</td>\n",
              "      <td>-0.566682</td>\n",
              "      <td>-0.113065</td>\n",
              "    </tr>\n",
              "    <tr>\n",
              "      <th>...</th>\n",
              "      <td>...</td>\n",
              "      <td>...</td>\n",
              "      <td>...</td>\n",
              "      <td>...</td>\n",
              "      <td>...</td>\n",
              "      <td>...</td>\n",
              "      <td>...</td>\n",
              "      <td>...</td>\n",
              "      <td>...</td>\n",
              "      <td>...</td>\n",
              "      <td>...</td>\n",
              "      <td>...</td>\n",
              "      <td>...</td>\n",
              "      <td>...</td>\n",
              "      <td>...</td>\n",
              "      <td>...</td>\n",
              "    </tr>\n",
              "    <tr>\n",
              "      <th>74</th>\n",
              "      <td>630.0</td>\n",
              "      <td>0.815789</td>\n",
              "      <td>0.184211</td>\n",
              "      <td>0.000235</td>\n",
              "      <td>0.000288</td>\n",
              "      <td>0.999870</td>\n",
              "      <td>0.332900</td>\n",
              "      <td>231.546452</td>\n",
              "      <td>-9981.334657</td>\n",
              "      <td>-1649.773753</td>\n",
              "      <td>7.177940e+03</td>\n",
              "      <td>-6.986934e+04</td>\n",
              "      <td>-6.269140e+04</td>\n",
              "      <td>0.022354</td>\n",
              "      <td>-0.888923</td>\n",
              "      <td>-0.097620</td>\n",
              "    </tr>\n",
              "    <tr>\n",
              "      <th>75</th>\n",
              "      <td>635.0</td>\n",
              "      <td>0.846154</td>\n",
              "      <td>0.153846</td>\n",
              "      <td>0.000161</td>\n",
              "      <td>0.000204</td>\n",
              "      <td>0.999926</td>\n",
              "      <td>0.332863</td>\n",
              "      <td>223.153409</td>\n",
              "      <td>-14350.002500</td>\n",
              "      <td>-2018.870577</td>\n",
              "      <td>4.909375e+03</td>\n",
              "      <td>-5.740001e+04</td>\n",
              "      <td>-5.249063e+04</td>\n",
              "      <td>0.021466</td>\n",
              "      <td>-0.889923</td>\n",
              "      <td>-0.114759</td>\n",
              "    </tr>\n",
              "    <tr>\n",
              "      <th>76</th>\n",
              "      <td>640.0</td>\n",
              "      <td>0.812500</td>\n",
              "      <td>0.187500</td>\n",
              "      <td>0.000099</td>\n",
              "      <td>0.000121</td>\n",
              "      <td>0.999944</td>\n",
              "      <td>0.332813</td>\n",
              "      <td>192.166154</td>\n",
              "      <td>-14300.003333</td>\n",
              "      <td>-2525.115625</td>\n",
              "      <td>2.498160e+03</td>\n",
              "      <td>-4.290001e+04</td>\n",
              "      <td>-4.040185e+04</td>\n",
              "      <td>0.018997</td>\n",
              "      <td>-0.858000</td>\n",
              "      <td>-0.153619</td>\n",
              "    </tr>\n",
              "    <tr>\n",
              "      <th>77</th>\n",
              "      <td>645.0</td>\n",
              "      <td>0.777778</td>\n",
              "      <td>0.222222</td>\n",
              "      <td>0.000056</td>\n",
              "      <td>0.000065</td>\n",
              "      <td>0.999963</td>\n",
              "      <td>0.332782</td>\n",
              "      <td>237.660000</td>\n",
              "      <td>-17150.657500</td>\n",
              "      <td>-3626.410556</td>\n",
              "      <td>1.663620e+03</td>\n",
              "      <td>-3.430131e+04</td>\n",
              "      <td>-3.263769e+04</td>\n",
              "      <td>0.027498</td>\n",
              "      <td>-0.857533</td>\n",
              "      <td>-0.269733</td>\n",
              "    </tr>\n",
              "    <tr>\n",
              "      <th>78</th>\n",
              "      <td>650.0</td>\n",
              "      <td>0.714286</td>\n",
              "      <td>0.285714</td>\n",
              "      <td>0.000043</td>\n",
              "      <td>0.000046</td>\n",
              "      <td>0.999963</td>\n",
              "      <td>0.332770</td>\n",
              "      <td>199.937000</td>\n",
              "      <td>-17150.657500</td>\n",
              "      <td>-4757.375714</td>\n",
              "      <td>9.996850e+02</td>\n",
              "      <td>-3.430131e+04</td>\n",
              "      <td>-3.330163e+04</td>\n",
              "      <td>0.023522</td>\n",
              "      <td>-0.857533</td>\n",
              "      <td>-0.391784</td>\n",
              "    </tr>\n",
              "  </tbody>\n",
              "</table>\n",
              "<p>79 rows × 16 columns</p>\n",
              "</div>"
            ],
            "text/plain": [
              "    Cut Off  Accept Rate (Good)  Accept Rate (Bad)  Accept Rate  \\\n",
              "0     260.0            0.667505           0.332495     0.999504   \n",
              "1     265.0            0.667663           0.332337     0.999102   \n",
              "2     270.0            0.667939           0.332061     0.998383   \n",
              "3     275.0            0.668319           0.331681     0.997454   \n",
              "4     280.0            0.668721           0.331279     0.996234   \n",
              "..      ...                 ...                ...          ...   \n",
              "74    630.0            0.815789           0.184211     0.000235   \n",
              "75    635.0            0.846154           0.153846     0.000161   \n",
              "76    640.0            0.812500           0.187500     0.000099   \n",
              "77    645.0            0.777778           0.222222     0.000056   \n",
              "78    650.0            0.714286           0.285714     0.000043   \n",
              "\n",
              "    Accuracy (Good)  Accuracy (Bad)  Overall Accuracy  Avg. P&L (Good)  \\\n",
              "0          0.999889        0.001266          0.667596      1166.904354   \n",
              "1          0.999722        0.002141          0.667775      1166.554725   \n",
              "2          0.999415        0.003686          0.668085      1165.796273   \n",
              "3          0.999053        0.005752          0.668531      1165.193386   \n",
              "4          0.998431        0.008172          0.668921      1164.084173   \n",
              "..              ...             ...               ...              ...   \n",
              "74         0.000288        0.999870          0.332900       231.546452   \n",
              "75         0.000204        0.999926          0.332863       223.153409   \n",
              "76         0.000121        0.999944          0.332813       192.166154   \n",
              "77         0.000065        0.999963          0.332782       237.660000   \n",
              "78         0.000046        0.999963          0.332770       199.937000   \n",
              "\n",
              "    Avg. P&L (Bad)      Avg P&L  Total P&L (Good)  Total P&L (Bad)  \\\n",
              "0     -8819.325248 -2153.463457      1.256873e+08    -4.731744e+08   \n",
              "1     -8816.905870 -2151.321027      1.256286e+08    -4.726302e+08   \n",
              "2     -8813.515200 -2147.948577      1.255085e+08    -4.717170e+08   \n",
              "3     -8811.728135 -2143.966684      1.253981e+08    -4.706432e+08   \n",
              "4     -8809.389747 -2139.922840      1.252007e+08    -4.693731e+08   \n",
              "..             ...          ...               ...              ...   \n",
              "74    -9981.334657 -1649.773753      7.177940e+03    -6.986934e+04   \n",
              "75   -14350.002500 -2018.870577      4.909375e+03    -5.740001e+04   \n",
              "76   -14300.003333 -2525.115625      2.498160e+03    -4.290001e+04   \n",
              "77   -17150.657500 -3626.410556      1.663620e+03    -3.430131e+04   \n",
              "78   -17150.657500 -4757.375714      9.996850e+02    -3.430131e+04   \n",
              "\n",
              "       Total P&L  ROI (Good)  ROI (Bad)       ROI  \n",
              "0  -3.474872e+08    0.082417  -0.566570 -0.113930  \n",
              "1  -3.470016e+08    0.082395  -0.566559 -0.113792  \n",
              "2  -3.462085e+08    0.082352  -0.566516 -0.113582  \n",
              "3  -3.452451e+08    0.082321  -0.566629 -0.113323  \n",
              "4  -3.441724e+08    0.082260  -0.566682 -0.113065  \n",
              "..           ...         ...        ...       ...  \n",
              "74 -6.269140e+04    0.022354  -0.888923 -0.097620  \n",
              "75 -5.249063e+04    0.021466  -0.889923 -0.114759  \n",
              "76 -4.040185e+04    0.018997  -0.858000 -0.153619  \n",
              "77 -3.263769e+04    0.027498  -0.857533 -0.269733  \n",
              "78 -3.330163e+04    0.023522  -0.857533 -0.391784  \n",
              "\n",
              "[79 rows x 16 columns]"
            ]
          },
          "execution_count": 500,
          "metadata": {},
          "output_type": "execute_result"
        }
      ],
      "source": [
        "# simulation of profit and loss under different cut offs\n",
        "cut_offs = np.arange(260, 651, 5)\n",
        "pnl_simulation = []\n",
        "for cut_off in cut_offs:\n",
        "    pnl_simulation.append(portfolio_pnl(test_df, cut_off))\n",
        "simulation = np.array(pnl_simulation)\n",
        "simulation_table = pd.DataFrame(\n",
        "    data = simulation,\n",
        "    columns = ['Cut Off', \n",
        "               'Accept Rate (Good)', 'Accept Rate (Bad)', 'Accept Rate', \n",
        "               'Accuracy (Good)', 'Accuracy (Bad)', 'Overall Accuracy', \n",
        "               'Avg. P&L (Good)', 'Avg. P&L (Bad)', 'Avg P&L',\n",
        "               'Total P&L (Good)', 'Total P&L (Bad)', 'Total P&L',\n",
        "               'ROI (Good)', 'ROI (Bad)', 'ROI'])\n",
        "simulation_table.to_excel('Cutoff_Simulations.xlsx')\n",
        "simulation_table"
      ]
    },
    {
      "attachments": {},
      "cell_type": "markdown",
      "metadata": {},
      "source": [
        "# Par 4: Optimization - Strategy Curve"
      ]
    },
    {
      "attachments": {},
      "cell_type": "markdown",
      "metadata": {},
      "source": [
        "### Acceptance dilemma"
      ]
    },
    {
      "attachments": {},
      "cell_type": "markdown",
      "metadata": {},
      "source": [
        "Lower the acceptance of bad loan would reduce the overall acceptance rate drastically."
      ]
    },
    {
      "cell_type": "code",
      "execution_count": 497,
      "metadata": {},
      "outputs": [
        {
          "data": {
            "image/png": "[encoded data removed]",
            "text/plain": [
              "<Figure size 640x480 with 1 Axes>"
            ]
          },
          "metadata": {},
          "output_type": "display_data"
        }
      ],
      "source": [
        "sns.lineplot(x=simulation[:,0], y=simulation[:,3], label = 'Acceptance Rate (Overall)', dashes=(2,2))\n",
        "sns.lineplot(x=simulation[:,0], y=simulation[:,2], label = 'Acceptance Rate (Bad)')\n",
        "plt.xlabel(\"Cut-off Score\")\n",
        "plt.legend(loc=\"upper center\")\n",
        "plt.show()"
      ]
    },
    {
      "cell_type": "markdown",
      "metadata": {},
      "source": [
        "### Balancing Accuracy, Average P&L and Acceptance Rate"
      ]
    },
    {
      "cell_type": "code",
      "execution_count": 498,
      "metadata": {},
      "outputs": [
        {
          "data": {
            "image/png": "[encoded data removed]",
            "text/plain": [
              "<Figure size 640x480 with 2 Axes>"
            ]
          },
          "metadata": {},
          "output_type": "display_data"
        }
      ],
      "source": [
        "optimize_index = np.argmax(simulation[:,6])\n",
        "fig, ax1 = plt.subplots()\n",
        "\n",
        "ax1.set_xlabel('Acceptance Rate')\n",
        "ax1.set_ylabel('Average P&L')\n",
        "ax1.plot(simulation[:,3], simulation[:,9], color='tab:blue', label='Average P&L')\n",
        "ax1.tick_params(axis='y')\n",
        "\n",
        "ax2 = ax1.twinx()\n",
        "ax2.set_ylabel('Overall Accuracy / Bad Rate')\n",
        "ax2.plot(simulation[:,3], simulation[:,6], color='tab:green', label='Accuracy')\n",
        "ax2.plot(simulation[:,3], simulation[:,2], color='tab:purple', label='Bad Rate')\n",
        "ax2.tick_params(axis='y')\n",
        "\n",
        "fig.tight_layout()\n",
        "\n",
        "plt.axvline(x=simulation[optimize_index,3], label='Cut-off score: ' + \n",
        "    str(simulation[optimize_index,0]), color='r')\n",
        "plt.xlim(0.005, 1)\n",
        "fig.legend(loc='center', frameon=False)\n",
        "plt.show()"
      ]
    },
    {
      "cell_type": "code",
      "execution_count": 513,
      "metadata": {},
      "outputs": [
        {
          "name": "stdout",
          "output_type": "stream",
          "text": [
            "Acurracy Improvement:  0.013236951970367006\n",
            "Bad Rate Reduction:  -0.02697007413729946\n",
            "Average P&L Improvement:  259.9052354877756\n",
            "Total P&L Improvement:  74044720.42268658\n",
            "ROI Improvement:  0.016615292470716497\n"
          ]
        }
      ],
      "source": [
        "improvements = np.array(portfolio_pnl(test_df, 345)) - np.array(portfolio_pnl(test_df, 1))\n",
        "print (\"Acurracy Improvement: \", improvements[6])\n",
        "print (\"Bad Rate Reduction: \", improvements[2])\n",
        "print (\"Average P&L Improvement: \", improvements[9])\n",
        "print (\"Total P&L Improvement: \", improvements[12])\n",
        "print (\"ROI Improvement: \", improvements[15])"
      ]
    },
    {
      "attachments": {},
      "cell_type": "markdown",
      "metadata": {},
      "source": [
        "The way of miximize P&L is to set a scorecard cutoff that has 0 acceptance, which is not possible. To maintain a balance between accuracy, accentance rate reduction, and average P&L, a cut-off of 345 should optimize the current origination strategy without dropping too many customers."
      ]
    },
    {
      "attachments": {},
      "cell_type": "markdown",
      "metadata": {},
      "source": [
        "### Conclusion:\n",
        "\n",
        "To optimize the accuracy of origination approval, the optimal cut off is around 340. it will reduce the bad loan rate with the consequence of rejecting 8.73% of the customers that should be approved by current mechanism.\n"
      ]
    },
    {
      "attachments": {},
      "cell_type": "markdown",
      "metadata": {},
      "source": [
        "# Q6 Complete"
      ]
    },
    {
      "cell_type": "code",
      "execution_count": 514,
      "metadata": {},
      "outputs": [],
      "source": [
        "pickle.dump(clean_df, open('Q6_merged_df.pkl','wb'))\n",
        "pickle.dump(simulation_table, open('Q6_scorecard_simulation.pkl','wb'))"
      ]
    }
  ],
  "metadata": {
    "colab": {
      "provenance": []
    },
    "kernelspec": {
      "display_name": "Python 3",
      "language": "python",
      "name": "python3"
    },
    "language_info": {
      "codemirror_mode": {
        "name": "ipython",
        "version": 3
      },
      "file_extension": ".py",
      "mimetype": "text/x-python",
      "name": "python",
      "nbconvert_exporter": "python",
      "pygments_lexer": "ipython3",
      "version": "3.10.7"
    },
    "vscode": {
      "interpreter": {
        "hash": "aee8b7b246df8f9039afb4144a1f6fd8d2ca17a180786b69acc140d282b71a49"
      }
    }
  },
  "nbformat": 4,
  "nbformat_minor": 0
}
